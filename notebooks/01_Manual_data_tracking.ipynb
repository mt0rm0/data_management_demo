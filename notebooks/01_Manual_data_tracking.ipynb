{
 "cells": [
  {
   "cell_type": "markdown",
   "id": "cc7dd40c",
   "metadata": {},
   "source": [
    "# Notebook 1: Manual Dataset Versioning Demo\n",
    "\n",
    "Demonstrates manual tracking of dataset versions using logs or YAML files.\n"
   ]
  },
  {
   "cell_type": "code",
   "execution_count": 1,
   "id": "440b0cf8",
   "metadata": {},
   "outputs": [],
   "source": [
    "\n",
    "import pandas as pd\n",
    "import yaml\n",
    "import os\n",
    "from datetime import datetime"
   ]
  },
  {
   "cell_type": "markdown",
   "id": "0c322e74",
   "metadata": {},
   "source": [
    "## 1. Load the datasets"
   ]
  },
  {
   "cell_type": "code",
   "execution_count": 2,
   "id": "c8deb6a8",
   "metadata": {},
   "outputs": [
    {
     "name": "stdout",
     "output_type": "stream",
     "text": [
      "Loaded dataset shape: (800, 7)\n"
     ]
    }
   ],
   "source": [
    "\n",
    "df = pd.read_csv('../data/main.csv')\n",
    "print(\"Loaded dataset shape:\", df.shape)\n"
   ]
  },
  {
   "cell_type": "markdown",
   "id": "b6f5ebca",
   "metadata": {},
   "source": [
    "\n",
    "## 2. Manual versioning: define metadata"
   ]
  },
  {
   "cell_type": "code",
   "execution_count": 3,
   "id": "bdc729d4",
   "metadata": {},
   "outputs": [],
   "source": [
    "dataset_version = 'v1'\n",
    "version_metadata = {\n",
    "    'version': dataset_version,\n",
    "    'description': 'Initial dataset with 800 reviews',\n",
    "    'num_rows': df.shape[0],\n",
    "    'columns': list(df.columns),\n",
    "    'created_at': datetime.now().isoformat(),\n",
    "    'source': ['main.csv']\n",
    "}"
   ]
  },
  {
   "cell_type": "markdown",
   "id": "c9b950a1",
   "metadata": {},
   "source": [
    "## 3. Save metadata to YAML file"
   ]
  },
  {
   "cell_type": "code",
   "execution_count": 4,
   "id": "911266ef",
   "metadata": {},
   "outputs": [
    {
     "name": "stdout",
     "output_type": "stream",
     "text": [
      "Metadata for dataset v1 saved to ../data//dataset_versions\\v1.yaml\n"
     ]
    }
   ],
   "source": [
    "metadata_dir = '../data//dataset_versions'\n",
    "os.makedirs(metadata_dir, exist_ok=True)\n",
    "yaml_file_path = os.path.join(metadata_dir, f'{dataset_version}.yaml')\n",
    "with open(yaml_file_path, 'w') as f:\n",
    "    yaml.dump(version_metadata, f)\n",
    "\n",
    "print(f'Metadata for dataset {dataset_version} saved to {yaml_file_path}')"
   ]
  },
  {
   "cell_type": "markdown",
   "id": "c06ca310",
   "metadata": {},
   "source": [
    "## 4. Updating dataset (new version)"
   ]
  },
  {
   "cell_type": "code",
   "execution_count": 6,
   "id": "5f1a0240",
   "metadata": {},
   "outputs": [
    {
     "name": "stdout",
     "output_type": "stream",
     "text": [
      "Metadata for dataset v2 saved to ../data//dataset_versions\\v2.yaml\n",
      "All dataset versions:\n",
      "v1.yaml\n",
      "v2.yaml\n"
     ]
    }
   ],
   "source": [
    "\n",
    "update1_df = pd.read_csv('../data/update1.csv')\n",
    "\n",
    "df = pd.concat([df, update1_df], ignore_index=True)\n",
    "\n",
    "dataset_version = 'v2'\n",
    "version_metadata = {\n",
    "    'version': dataset_version,\n",
    "    'description': 'Added update 1 dataset to the previous version',\n",
    "    'num_rows': df.shape[0],\n",
    "    'columns': list(df.columns),\n",
    "    'created_at': datetime.now().isoformat(),\n",
    "    'source': ['main.csv', 'update1.csv']\n",
    "}\n",
    "yaml_file_path = os.path.join(metadata_dir, f'{dataset_version}.yaml')\n",
    "with open(yaml_file_path, 'w') as f:\n",
    "    yaml.dump(version_metadata, f)\n",
    "\n",
    "print(f'Metadata for dataset {dataset_version} saved to {yaml_file_path}')\n",
    "\n",
    "# =====================\n",
    "# 6. Listing all versions\n",
    "# =====================\n",
    "yaml_files = os.listdir(metadata_dir)\n",
    "print(\"All dataset versions:\")\n",
    "for file in sorted(yaml_files):\n",
    "    print(file)\n"
   ]
  }
 ],
 "metadata": {
  "kernelspec": {
   "display_name": "data-management-demo",
   "language": "python",
   "name": "python3"
  },
  "language_info": {
   "codemirror_mode": {
    "name": "ipython",
    "version": 3
   },
   "file_extension": ".py",
   "mimetype": "text/x-python",
   "name": "python",
   "nbconvert_exporter": "python",
   "pygments_lexer": "ipython3",
   "version": "3.13.2"
  }
 },
 "nbformat": 4,
 "nbformat_minor": 5
}
