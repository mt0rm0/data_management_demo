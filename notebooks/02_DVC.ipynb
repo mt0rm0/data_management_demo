{
 "cells": [
  {
   "cell_type": "markdown",
   "id": "cc7dd40c",
   "metadata": {},
   "source": [
    "# Notebook 2: DVC\n",
    "\n",
    "Demonstrates the use of DVC for data Version management..\n"
   ]
  },
  {
   "cell_type": "code",
   "execution_count": 1,
   "id": "440b0cf8",
   "metadata": {},
   "outputs": [],
   "source": [
    "import pandas as pd"
   ]
  },
  {
   "cell_type": "markdown",
   "id": "0c322e74",
   "metadata": {},
   "source": [
    "## 1. Setup DVC in the project"
   ]
  },
  {
   "cell_type": "code",
   "execution_count": 2,
   "id": "c8deb6a8",
   "metadata": {},
   "outputs": [
    {
     "name": "stdout",
     "output_type": "stream",
     "text": [
      "c:\\Users\\user\\Documents\\Projects\\data_management_demo\n",
      "Initialized DVC repository.\n",
      "\n",
      "You can now commit the changes to git.\n",
      "\n",
      "+---------------------------------------------------------------------+\n",
      "|                                                                     |\n",
      "|        DVC has enabled anonymous aggregate usage analytics.         |\n",
      "|     Read the analytics documentation (and how to opt-out) here:     |\n",
      "|             <https://dvc.org/doc/user-guide/analytics>              |\n",
      "|                                                                     |\n",
      "+---------------------------------------------------------------------+\n",
      "\n",
      "What's next?\n",
      "------------\n",
      "- Check out the documentation: <https://dvc.org/doc>\n",
      "- Get help and share ideas: <https://dvc.org/chat>\n",
      "- Star us on GitHub: <https://github.com/iterative/dvc>\n",
      "On branch master\n",
      "Your branch is ahead of 'origin/master' by 5 commits.\n",
      "  (use \"git push\" to publish your local commits)\n",
      "\n",
      "Changes not staged for commit:\n",
      "  (use \"git add/rm <file>...\" to update what will be committed)\n",
      "  (use \"git restore <file>...\" to discard changes in working directory)\n",
      "\tdeleted:    data/dataset.csv.dvc\n",
      "\tmodified:   notebooks/00_About_the_dataset.ipynb\n",
      "\tmodified:   notebooks/02_DVC.ipynb\n",
      "\n",
      "Untracked files:\n",
      "  (use \"git add <file>...\" to include in what will be committed)\n",
      "\tmain.csv\n",
      "\tupdate1.csv\n",
      "\tupdate2.csv\n",
      "\n",
      "no changes added to commit (use \"git add\" and/or \"git commit -a\")\n"
     ]
    }
   ],
   "source": [
    "# Go to parent directory\n",
    "%cd ..\n",
    "\n",
    "# Now run DVC commands in the repo root\n",
    "!dvc init\n",
    "!git add .dvc .gitignore\n",
    "!git commit -m \"Initialize DVC\""
   ]
  },
  {
   "cell_type": "markdown",
   "id": "b6f5ebca",
   "metadata": {},
   "source": [
    "\n",
    "## 2. Add a dataset to DVC\n"
   ]
  },
  {
   "cell_type": "code",
   "execution_count": 3,
   "id": "d76e351b",
   "metadata": {},
   "outputs": [
    {
     "name": "stdout",
     "output_type": "stream",
     "text": [
      "\n",
      "To track the changes with git, run:\n",
      "\n",
      "\tgit add 'data\\dataset.csv.dvc'\n",
      "\n",
      "To enable auto staging, run:\n",
      "\n",
      "\tdvc config core.autostage true\n"
     ]
    },
    {
     "name": "stderr",
     "output_type": "stream",
     "text": [
      "⠋ Checking graph\n",
      "\n"
     ]
    }
   ],
   "source": [
    "# Creating a copy of main\n",
    "with open(\"./data/main.csv\", \"r\") as src, open(\"./data/dataset.csv\", \"a\") as dst:\n",
    "    dst.write(src.read())\n",
    "\n",
    "# Adding main\n",
    "!dvc add data/dataset.csv\n",
    "\n",
    "\n",
    "# After running the above command, DVC creates a .dvc file (main.csv.dvc)\n",
    "# and tracks the dataset in Git (metadata only, not full data).\n"
   ]
  },
  {
   "cell_type": "code",
   "execution_count": 4,
   "id": "831c2525",
   "metadata": {},
   "outputs": [
    {
     "name": "stdout",
     "output_type": "stream",
     "text": [
      "Setting 'myremote' as a default remote.\n"
     ]
    }
   ],
   "source": [
    "# Setting up a remote storage (e.g., local directory, S3, etc.)\n",
    "!dvc remote add -d myremote ./dvc_remote"
   ]
  },
  {
   "cell_type": "code",
   "execution_count": 5,
   "id": "b5ed1417",
   "metadata": {},
   "outputs": [
    {
     "name": "stdout",
     "output_type": "stream",
     "text": [
      "1 file pushed\n",
      "[master 437b2aa] Add dataset v1 to DVC\n",
      " 1 file changed, 2 insertions(+), 2 deletions(-)\n"
     ]
    }
   ],
   "source": [
    "# Uploading the data to remote storage\n",
    "!dvc push\n",
    "\n",
    "# Commit changes\n",
    "!git add data/dataset.csv.dvc\n",
    "!git commit -m \"Add dataset v1 to DVC\""
   ]
  },
  {
   "cell_type": "markdown",
   "id": "810045e5",
   "metadata": {},
   "source": [
    "## 3. Update dataset (new version)"
   ]
  },
  {
   "cell_type": "code",
   "execution_count": 6,
   "id": "cdb3ad77",
   "metadata": {},
   "outputs": [],
   "source": [
    "with open(\"./data/update1.csv\", \"r\") as src, open(\"./data/dataset.csv\", \"a\") as dst:\n",
    "    dst.write(src.read())\n"
   ]
  },
  {
   "cell_type": "code",
   "execution_count": 7,
   "id": "69d9d567",
   "metadata": {},
   "outputs": [
    {
     "name": "stdout",
     "output_type": "stream",
     "text": [
      "\n",
      "To track the changes with git, run:\n",
      "\n",
      "\tgit add 'data\\dataset.csv.dvc'\n",
      "\n",
      "To enable auto staging, run:\n",
      "\n",
      "\tdvc config core.autostage true\n"
     ]
    },
    {
     "name": "stderr",
     "output_type": "stream",
     "text": [
      "⠋ Checking graph\n",
      "\n"
     ]
    },
    {
     "name": "stdout",
     "output_type": "stream",
     "text": [
      "1 file pushed\n"
     ]
    }
   ],
   "source": [
    "\n",
    "!dvc add data/dataset.csv\n",
    "!dvc push\n"
   ]
  },
  {
   "cell_type": "code",
   "execution_count": 8,
   "id": "6bbc81a1",
   "metadata": {},
   "outputs": [
    {
     "name": "stdout",
     "output_type": "stream",
     "text": [
      "[master 8d9b92c] Add update1 data. Update dataset to v2\n",
      " 1 file changed, 2 insertions(+), 2 deletions(-)\n"
     ]
    }
   ],
   "source": [
    "!git add data/dataset.csv.dvc\n",
    "!git commit -m \"Add update1 data. Update dataset to v2\""
   ]
  },
  {
   "cell_type": "code",
   "execution_count": null,
   "id": "e06af1fb",
   "metadata": {},
   "outputs": [],
   "source": []
  },
  {
   "cell_type": "code",
   "execution_count": null,
   "id": "4d3b9c32",
   "metadata": {},
   "outputs": [],
   "source": []
  }
 ],
 "metadata": {
  "kernelspec": {
   "display_name": "data-management-demo",
   "language": "python",
   "name": "python3"
  },
  "language_info": {
   "codemirror_mode": {
    "name": "ipython",
    "version": 3
   },
   "file_extension": ".py",
   "mimetype": "text/x-python",
   "name": "python",
   "nbconvert_exporter": "python",
   "pygments_lexer": "ipython3",
   "version": "3.13.2"
  }
 },
 "nbformat": 4,
 "nbformat_minor": 5
}
